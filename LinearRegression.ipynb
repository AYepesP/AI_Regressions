{
 "cells": [
  {
   "cell_type": "markdown",
   "id": "ca56a96f",
   "metadata": {},
   "source": [
    "# Notas Quiz\n",
    "***"
   ]
  },
  {
   "cell_type": "code",
   "execution_count": 4,
   "id": "d0657779",
   "metadata": {},
   "outputs": [],
   "source": [
    "import numpy as np # matematica\n",
    "import pandas as pd # DataFrame\n",
    "import matplotlib.pyplot as plt # plot\n",
    "import seaborn as sns  #plot pero diferente\n",
    "from scipy.stats import t # estadistica prueba t\n",
    "from scipy.stats import norm # estadistica prueba normal\n",
    "import statsmodels.api as sm # para hacer la regresion lineal\n",
    "from scipy.stats import jarque_bera # probar la validez del modelo\n",
    "from statsmodels.api import qqplot # probar la validez del modelo"
   ]
  },
  {
   "cell_type": "code",
   "execution_count": 5,
   "id": "b801be93",
   "metadata": {},
   "outputs": [
    {
     "data": {
      "text/html": [
       "<div>\n",
       "<style scoped>\n",
       "    .dataframe tbody tr th:only-of-type {\n",
       "        vertical-align: middle;\n",
       "    }\n",
       "\n",
       "    .dataframe tbody tr th {\n",
       "        vertical-align: top;\n",
       "    }\n",
       "\n",
       "    .dataframe thead th {\n",
       "        text-align: right;\n",
       "    }\n",
       "</style>\n",
       "<table border=\"1\" class=\"dataframe\">\n",
       "  <thead>\n",
       "    <tr style=\"text-align: right;\">\n",
       "      <th></th>\n",
       "      <th>x</th>\n",
       "      <th>y</th>\n",
       "    </tr>\n",
       "  </thead>\n",
       "  <tbody>\n",
       "    <tr>\n",
       "      <th>0</th>\n",
       "      <td>10.0</td>\n",
       "      <td>1.0</td>\n",
       "    </tr>\n",
       "    <tr>\n",
       "      <th>1</th>\n",
       "      <td>80.0</td>\n",
       "      <td>0.8</td>\n",
       "    </tr>\n",
       "    <tr>\n",
       "      <th>2</th>\n",
       "      <td>160.0</td>\n",
       "      <td>0.9</td>\n",
       "    </tr>\n",
       "    <tr>\n",
       "      <th>3</th>\n",
       "      <td>230.0</td>\n",
       "      <td>1.3</td>\n",
       "    </tr>\n",
       "    <tr>\n",
       "      <th>4</th>\n",
       "      <td>280.0</td>\n",
       "      <td>1.8</td>\n",
       "    </tr>\n",
       "  </tbody>\n",
       "</table>\n",
       "</div>"
      ],
      "text/plain": [
       "       x    y\n",
       "0   10.0  1.0\n",
       "1   80.0  0.8\n",
       "2  160.0  0.9\n",
       "3  230.0  1.3\n",
       "4  280.0  1.8"
      ]
     },
     "execution_count": 5,
     "metadata": {},
     "output_type": "execute_result"
    }
   ],
   "source": [
    "dataStr= '1.0 10 0.8 80 0.9 160 1.3 230 1.8 280 2.5 370 2.8 430 0.9 10 0.6 80 1.1 160 1.6 230 2.1 290 2.9 370 3.3 430 0.8 10 1.8 80 1.7 160 2.8 230 1.9 290 2.6 370 2.5 440 1.3 20 1.0 90 2.0 160 2.2 230 2.4 300 2.3 350 2.8 440 0.9 20 2.0 100 1.6 170 2.6 230 2.5 300 2.7 350 2.4 450 0.6 30 1.5 100 1.9 170 1.4 240 2.9 300 2.8 360 2.6 450 1.1 30 1.3 110 1.7 170 1.6 240 2.0 300 3.1 360 3.0 450 1.0 30 1.7 110 2.2 180 1.7 240 1.9 310 3.0 380 3.4 460 1.4 40 0.5 100 2.4 180 1.5 250 2.5 310 3.2 380 3.0 460 1.4 40 1.2 110 1.6 180 2.2 250 2.6 310 2.9 390 3.3 470 1.2 40 0.8 110 2.0 190 2.5 250 3.2 320 2.6 390 3.4 470 1.7 50 1.0 120 1.5 200 2.4 260 2.8 320 2.5 390 3.1 470 0.9 50 1.8 120 2.1 200 2.0 260 2.4 320 2.7 400 3.6 480 1.2 50 2.1 120 1.8 190 2.7 260 2.5 320 3.1 400 3.0 480 1.3 50 1.5 130 4.1 190 2.0 270 2.0 330 2.4 400 2.9 480 0.7 60 1.9 130 2.5 200 2.8 290 2.4 340 3.0 400 3.2 480 1.0 60 1.7 140 1.7 220 2.2 290 2.2 340 3.4 420 2.6 490 1.3 70 1.2 150 2.0 220 2.4 290 2.0 340 3.5 420 3.8 490 1.5 70 1.4 150 2.3 220 2.2 270 2.5 350 3.1 420 3.3 490 2.0 70 2.1 150 1.8 220 2.4 270 2.8 350 2.9 420 2.9 500'\n",
    "NombreColX= 'x'\n",
    "NombreColY = 'y'\n",
    "dataA = dataStr.split()\n",
    "x = []\n",
    "y = []\n",
    "\n",
    "for i in range (0,len(dataA)):\n",
    "    if (i%2 == 1):\n",
    "        x.append(float(dataA[i]))\n",
    "    else:\n",
    "        y.append(float(dataA[i]))\n",
    "data = pd.DataFrame(columns=[NombreColX, NombreColY])\n",
    "data[NombreColX] = x\n",
    "data[NombreColY] = y\n",
    "\n",
    "data.head()"
   ]
  },
  {
   "cell_type": "code",
   "execution_count": 6,
   "id": "680ddaff",
   "metadata": {},
   "outputs": [
    {
     "data": {
      "text/html": [
       "<div>\n",
       "<style scoped>\n",
       "    .dataframe tbody tr th:only-of-type {\n",
       "        vertical-align: middle;\n",
       "    }\n",
       "\n",
       "    .dataframe tbody tr th {\n",
       "        vertical-align: top;\n",
       "    }\n",
       "\n",
       "    .dataframe thead th {\n",
       "        text-align: right;\n",
       "    }\n",
       "</style>\n",
       "<table border=\"1\" class=\"dataframe\">\n",
       "  <thead>\n",
       "    <tr style=\"text-align: right;\">\n",
       "      <th></th>\n",
       "      <th>Gasto</th>\n",
       "      <th>Ventas</th>\n",
       "    </tr>\n",
       "  </thead>\n",
       "  <tbody>\n",
       "    <tr>\n",
       "      <th>0</th>\n",
       "      <td>41</td>\n",
       "      <td>1250</td>\n",
       "    </tr>\n",
       "    <tr>\n",
       "      <th>1</th>\n",
       "      <td>54</td>\n",
       "      <td>1380</td>\n",
       "    </tr>\n",
       "    <tr>\n",
       "      <th>2</th>\n",
       "      <td>63</td>\n",
       "      <td>1425</td>\n",
       "    </tr>\n",
       "    <tr>\n",
       "      <th>3</th>\n",
       "      <td>54</td>\n",
       "      <td>1425</td>\n",
       "    </tr>\n",
       "    <tr>\n",
       "      <th>4</th>\n",
       "      <td>48</td>\n",
       "      <td>1450</td>\n",
       "    </tr>\n",
       "  </tbody>\n",
       "</table>\n",
       "</div>"
      ],
      "text/plain": [
       "   Gasto  Ventas\n",
       "0     41    1250\n",
       "1     54    1380\n",
       "2     63    1425\n",
       "3     54    1425\n",
       "4     48    1450"
      ]
     },
     "execution_count": 6,
     "metadata": {},
     "output_type": "execute_result"
    }
   ],
   "source": [
    "NombreColX= 'Gasto'\n",
    "NombreColY = 'Ventas'\n",
    "#dataA = dataStr.split()\n",
    "x = [41, 54, 63, 54, 48, 46, 62, 61, 64, 71]\n",
    "y = [1250, 1380, 1425, 1425, 1450, 1300, 1400, 1510, 1575, 1650]\n",
    "\n",
    "data = pd.DataFrame(columns=[NombreColX, NombreColY])\n",
    "data[NombreColX] = x\n",
    "data[NombreColY] = y\n",
    "data.head()"
   ]
  },
  {
   "cell_type": "markdown",
   "id": "19554455",
   "metadata": {},
   "source": [
    "#### Paso 1: Eliminar los datos vacios"
   ]
  },
  {
   "cell_type": "code",
   "execution_count": 7,
   "id": "f9e95f96",
   "metadata": {},
   "outputs": [
    {
     "name": "stdout",
     "output_type": "stream",
     "text": [
      "Gasto     0\n",
      "Ventas    0\n",
      "dtype: int64\n"
     ]
    }
   ],
   "source": [
    "print(data.isnull().sum())"
   ]
  },
  {
   "cell_type": "code",
   "execution_count": 8,
   "id": "ca23f5c4",
   "metadata": {},
   "outputs": [
    {
     "data": {
      "text/html": [
       "<div>\n",
       "<style scoped>\n",
       "    .dataframe tbody tr th:only-of-type {\n",
       "        vertical-align: middle;\n",
       "    }\n",
       "\n",
       "    .dataframe tbody tr th {\n",
       "        vertical-align: top;\n",
       "    }\n",
       "\n",
       "    .dataframe thead th {\n",
       "        text-align: right;\n",
       "    }\n",
       "</style>\n",
       "<table border=\"1\" class=\"dataframe\">\n",
       "  <thead>\n",
       "    <tr style=\"text-align: right;\">\n",
       "      <th></th>\n",
       "      <th>Gasto</th>\n",
       "      <th>Ventas</th>\n",
       "    </tr>\n",
       "  </thead>\n",
       "  <tbody>\n",
       "    <tr>\n",
       "      <th>0</th>\n",
       "      <td>41</td>\n",
       "      <td>1250</td>\n",
       "    </tr>\n",
       "    <tr>\n",
       "      <th>1</th>\n",
       "      <td>54</td>\n",
       "      <td>1380</td>\n",
       "    </tr>\n",
       "    <tr>\n",
       "      <th>2</th>\n",
       "      <td>63</td>\n",
       "      <td>1425</td>\n",
       "    </tr>\n",
       "    <tr>\n",
       "      <th>3</th>\n",
       "      <td>54</td>\n",
       "      <td>1425</td>\n",
       "    </tr>\n",
       "    <tr>\n",
       "      <th>4</th>\n",
       "      <td>48</td>\n",
       "      <td>1450</td>\n",
       "    </tr>\n",
       "  </tbody>\n",
       "</table>\n",
       "</div>"
      ],
      "text/plain": [
       "   Gasto  Ventas\n",
       "0     41    1250\n",
       "1     54    1380\n",
       "2     63    1425\n",
       "3     54    1425\n",
       "4     48    1450"
      ]
     },
     "execution_count": 8,
     "metadata": {},
     "output_type": "execute_result"
    }
   ],
   "source": [
    "\n",
    "data = data [[NombreColX,NombreColY]].dropna() #escogemos las columnas indicadas y botamos datos vacios\n",
    "#data.columns = ['Esp. vida', 'Escolaridad'] #renombramos las columnas \n",
    "data.reset_index(inplace=True,drop=True) #establecemos unos nuevos índices \n",
    "data.head()"
   ]
  },
  {
   "cell_type": "markdown",
   "id": "7474d4cb",
   "metadata": {},
   "source": [
    "#### Paso 2: Definir y ajustar el modelo de regresion a los datos"
   ]
  },
  {
   "cell_type": "code",
   "execution_count": 9,
   "id": "a0d18d88",
   "metadata": {},
   "outputs": [],
   "source": [
    "data = sm.add_constant(data) # se agrega la cte a el DataFrame\n",
    "regre_simple = sm.OLS(data[NombreColY],data[['const',NombreColX]]) #Definimos el modelo de regresión \n",
    "result_simple = regre_simple.fit()  #Ajustamos el modelo a los datos \n",
    "result_simple.params  #usando el atributo params podemos imprimir los parámetros óptimos \n",
    "m = result_simple.params[1]\n",
    "b = result_simple.params[0]"
   ]
  },
  {
   "cell_type": "markdown",
   "id": "959f8460",
   "metadata": {},
   "source": [
    "#### Paso 3: Plot"
   ]
  },
  {
   "cell_type": "code",
   "execution_count": 10,
   "id": "f51df789",
   "metadata": {},
   "outputs": [
    {
     "data": {
      "text/plain": [
       "<Figure size 432x288 with 0 Axes>"
      ]
     },
     "metadata": {},
     "output_type": "display_data"
    },
    {
     "data": {
      "image/png": "[encoded data removed]",
      "text/plain": [
       "<Figure size 432x288 with 1 Axes>"
      ]
     },
     "metadata": {
      "needs_background": "light"
     },
     "output_type": "display_data"
    }
   ],
   "source": [
    "#plot con matplotlib\n",
    "plt.figure()\n",
    "data.plot.scatter(x= NombreColX,y= NombreColY,alpha=0.7)\n",
    "plt.plot(data[NombreColX],b + m*data[NombreColX],color='r',lw=2)\n",
    "plt.title('Recta de regresión')\n",
    "plt.show()\n"
   ]
  },
  {
   "cell_type": "code",
   "execution_count": 11,
   "id": "88cd22ca",
   "metadata": {},
   "outputs": [
    {
     "data": {
      "text/plain": [
       "<matplotlib.collections.PathCollection at 0x1e21b96d780>"
      ]
     },
     "execution_count": 11,
     "metadata": {},
     "output_type": "execute_result"
    },
    {
     "data": {
      "image/png": "[encoded data removed]",
      "text/plain": [
       "<Figure size 432x288 with 1 Axes>"
      ]
     },
     "metadata": {
      "needs_background": "light"
     },
     "output_type": "display_data"
    }
   ],
   "source": [
    "# plot con sns\n",
    "from turtle import color\n",
    "sns.regplot(x=NombreColX, y = NombreColY, data = data)\n",
    "plt.scatter(data[NombreColX].mean(), data[NombreColY].mean(), color = 'r',s=100)"
   ]
  },
  {
   "cell_type": "markdown",
   "id": "f37d436a",
   "metadata": {},
   "source": [
    "#### Paso 4: Sacar los estadisticos"
   ]
  },
  {
   "cell_type": "code",
   "execution_count": 12,
   "id": "711b50c8",
   "metadata": {},
   "outputs": [
    {
     "name": "stderr",
     "output_type": "stream",
     "text": [
      "c:\\Users\\aleja\\AppData\\Local\\Programs\\Python\\Python310\\lib\\site-packages\\scipy\\stats\\_stats_py.py:1477: UserWarning: kurtosistest only valid for n>=20 ... continuing anyway, n=10\n",
      "  warnings.warn(\"kurtosistest only valid for n>=20 ... continuing \"\n"
     ]
    },
    {
     "data": {
      "text/html": [
       "<table class=\"simpletable\">\n",
       "<caption>OLS Regression Results</caption>\n",
       "<tr>\n",
       "  <th>Dep. Variable:</th>         <td>Ventas</td>      <th>  R-squared:         </th> <td>   0.719</td>\n",
       "</tr>\n",
       "<tr>\n",
       "  <th>Model:</th>                   <td>OLS</td>       <th>  Adj. R-squared:    </th> <td>   0.684</td>\n",
       "</tr>\n",
       "<tr>\n",
       "  <th>Method:</th>             <td>Least Squares</td>  <th>  F-statistic:       </th> <td>   20.47</td>\n",
       "</tr>\n",
       "<tr>\n",
       "  <th>Date:</th>             <td>Thu, 18 Aug 2022</td> <th>  Prob (F-statistic):</th>  <td>0.00194</td>\n",
       "</tr>\n",
       "<tr>\n",
       "  <th>Time:</th>                 <td>10:58:19</td>     <th>  Log-Likelihood:    </th> <td> -55.150</td>\n",
       "</tr>\n",
       "<tr>\n",
       "  <th>No. Observations:</th>      <td>    10</td>      <th>  AIC:               </th> <td>   114.3</td>\n",
       "</tr>\n",
       "<tr>\n",
       "  <th>Df Residuals:</th>          <td>     8</td>      <th>  BIC:               </th> <td>   114.9</td>\n",
       "</tr>\n",
       "<tr>\n",
       "  <th>Df Model:</th>              <td>     1</td>      <th>                     </th>     <td> </td>   \n",
       "</tr>\n",
       "<tr>\n",
       "  <th>Covariance Type:</th>      <td>nonrobust</td>    <th>                     </th>     <td> </td>   \n",
       "</tr>\n",
       "</table>\n",
       "<table class=\"simpletable\">\n",
       "<tr>\n",
       "    <td></td>       <th>coef</th>     <th>std err</th>      <th>t</th>      <th>P>|t|</th>  <th>[0.025</th>    <th>0.975]</th>  \n",
       "</tr>\n",
       "<tr>\n",
       "  <th>const</th> <td>  828.1269</td> <td>  136.129</td> <td>    6.083</td> <td> 0.000</td> <td>  514.214</td> <td> 1142.040</td>\n",
       "</tr>\n",
       "<tr>\n",
       "  <th>Gasto</th> <td>   10.7868</td> <td>    2.384</td> <td>    4.525</td> <td> 0.002</td> <td>    5.289</td> <td>   16.284</td>\n",
       "</tr>\n",
       "</table>\n",
       "<table class=\"simpletable\">\n",
       "<tr>\n",
       "  <th>Omnibus:</th>       <td> 0.124</td> <th>  Durbin-Watson:     </th> <td>   1.598</td>\n",
       "</tr>\n",
       "<tr>\n",
       "  <th>Prob(Omnibus):</th> <td> 0.940</td> <th>  Jarque-Bera (JB):  </th> <td>   0.336</td>\n",
       "</tr>\n",
       "<tr>\n",
       "  <th>Skew:</th>          <td>-0.012</td> <th>  Prob(JB):          </th> <td>   0.845</td>\n",
       "</tr>\n",
       "<tr>\n",
       "  <th>Kurtosis:</th>      <td> 2.102</td> <th>  Cond. No.          </th> <td>    366.</td>\n",
       "</tr>\n",
       "</table><br/><br/>Notes:<br/>[1] Standard Errors assume that the covariance matrix of the errors is correctly specified."
      ],
      "text/plain": [
       "<class 'statsmodels.iolib.summary.Summary'>\n",
       "\"\"\"\n",
       "                            OLS Regression Results                            \n",
       "==============================================================================\n",
       "Dep. Variable:                 Ventas   R-squared:                       0.719\n",
       "Model:                            OLS   Adj. R-squared:                  0.684\n",
       "Method:                 Least Squares   F-statistic:                     20.47\n",
       "Date:                Thu, 18 Aug 2022   Prob (F-statistic):            0.00194\n",
       "Time:                        10:58:19   Log-Likelihood:                -55.150\n",
       "No. Observations:                  10   AIC:                             114.3\n",
       "Df Residuals:                       8   BIC:                             114.9\n",
       "Df Model:                           1                                         \n",
       "Covariance Type:            nonrobust                                         \n",
       "==============================================================================\n",
       "                 coef    std err          t      P>|t|      [0.025      0.975]\n",
       "------------------------------------------------------------------------------\n",
       "const        828.1269    136.129      6.083      0.000     514.214    1142.040\n",
       "Gasto         10.7868      2.384      4.525      0.002       5.289      16.284\n",
       "==============================================================================\n",
       "Omnibus:                        0.124   Durbin-Watson:                   1.598\n",
       "Prob(Omnibus):                  0.940   Jarque-Bera (JB):                0.336\n",
       "Skew:                          -0.012   Prob(JB):                        0.845\n",
       "Kurtosis:                       2.102   Cond. No.                         366.\n",
       "==============================================================================\n",
       "\n",
       "Notes:\n",
       "[1] Standard Errors assume that the covariance matrix of the errors is correctly specified.\n",
       "\"\"\""
      ]
     },
     "execution_count": 12,
     "metadata": {},
     "output_type": "execute_result"
    }
   ],
   "source": [
    "result_simple.summary()\n"
   ]
  },
  {
   "cell_type": "code",
   "execution_count": 13,
   "id": "77ca97ba",
   "metadata": {},
   "outputs": [
    {
     "data": {
      "text/html": [
       "<div>\n",
       "<style scoped>\n",
       "    .dataframe tbody tr th:only-of-type {\n",
       "        vertical-align: middle;\n",
       "    }\n",
       "\n",
       "    .dataframe tbody tr th {\n",
       "        vertical-align: top;\n",
       "    }\n",
       "\n",
       "    .dataframe thead th {\n",
       "        text-align: right;\n",
       "    }\n",
       "</style>\n",
       "<table border=\"1\" class=\"dataframe\">\n",
       "  <thead>\n",
       "    <tr style=\"text-align: right;\">\n",
       "      <th></th>\n",
       "      <th>0</th>\n",
       "      <th>1</th>\n",
       "    </tr>\n",
       "  </thead>\n",
       "  <tbody>\n",
       "    <tr>\n",
       "      <th>const</th>\n",
       "      <td>514.213779</td>\n",
       "      <td>1142.039998</td>\n",
       "    </tr>\n",
       "    <tr>\n",
       "      <th>Gasto</th>\n",
       "      <td>5.289146</td>\n",
       "      <td>16.284368</td>\n",
       "    </tr>\n",
       "  </tbody>\n",
       "</table>\n",
       "</div>"
      ],
      "text/plain": [
       "                0            1\n",
       "const  514.213779  1142.039998\n",
       "Gasto    5.289146    16.284368"
      ]
     },
     "execution_count": 13,
     "metadata": {},
     "output_type": "execute_result"
    }
   ],
   "source": [
    "# Intervalos de confianza con alpha diferente de 0.05\n",
    "alpha = 0.05\n",
    "result_simple.conf_int(alpha)"
   ]
  },
  {
   "cell_type": "markdown",
   "id": "3bc4c1e6",
   "metadata": {},
   "source": [
    "Coeficiente de determinacion\n",
    "<br>\n",
    "- Porcentaje de variacion de $Y$ que es explicado por la variacion de $X$\n",
    "- Se denota como $R^2$"
   ]
  },
  {
   "cell_type": "code",
   "execution_count": 14,
   "id": "548d36c6",
   "metadata": {},
   "outputs": [
    {
     "data": {
      "text/plain": [
       "0.719019259160206"
      ]
     },
     "execution_count": 14,
     "metadata": {},
     "output_type": "execute_result"
    }
   ],
   "source": [
    "result_simple.rsquared"
   ]
  },
  {
   "cell_type": "markdown",
   "id": "c4629610",
   "metadata": {},
   "source": [
    "Coeficiente de Correlacion:\n",
    "<br>\n",
    "$$ r = \\sqrt R^2 $$\n",
    "<br>\n",
    "si r :<br>\n",
    "0-0.5 -> debil <br>\n",
    "0.5 - 0.8 -> moderado <br>\n",
    "0.8 - 1 -> Fuerte"
   ]
  },
  {
   "cell_type": "code",
   "execution_count": 15,
   "id": "4cbc799b",
   "metadata": {},
   "outputs": [
    {
     "data": {
      "text/plain": [
       "0.8479500334101097"
      ]
     },
     "execution_count": 15,
     "metadata": {},
     "output_type": "execute_result"
    }
   ],
   "source": [
    "np.sqrt(result_simple.rsquared)"
   ]
  },
  {
   "cell_type": "markdown",
   "id": "09582748",
   "metadata": {},
   "source": [
    "Recta de regresion ajustada:\n",
    "<br>\n",
    "- Representa la recta de la regresion"
   ]
  },
  {
   "cell_type": "code",
   "execution_count": 16,
   "id": "6b48cc8b",
   "metadata": {},
   "outputs": [
    {
     "name": "stdout",
     "output_type": "stream",
     "text": [
      "Ventas  =  10.786757301107777 x +  828.1268882175214\n"
     ]
    }
   ],
   "source": [
    "result_simple.params\n",
    "print(NombreColY, \" = \", m, \"x + \", b ) # variables m y b ya se habian declarado previamente"
   ]
  },
  {
   "cell_type": "markdown",
   "id": "56a90a16",
   "metadata": {},
   "source": [
    "Estimar el error estandar de $\\hat{\\beta_1}$\n",
    "<br>\n",
    "$$ \\frac {s}{\\sqrt S_{xx}}"
   ]
  },
  {
   "cell_type": "code",
   "execution_count": 17,
   "id": "b6895ca0",
   "metadata": {},
   "outputs": [
    {
     "name": "stdout",
     "output_type": "stream",
     "text": [
      "2.384042146440731\n"
     ]
    }
   ],
   "source": [
    "s = np.sqrt(result_simple.mse_resid)\n",
    "xBarra = data[NombreColX].mean()\n",
    "Sxx = np.sum((data[NombreColX] - xBarra)**2)\n",
    "eB1 = s/np.sqrt(Sxx)\n",
    "print(eB1)\n",
    "# tambien se puede encontrar en el summary pero este es mas exacto"
   ]
  },
  {
   "cell_type": "markdown",
   "id": "bf4f2667",
   "metadata": {},
   "source": [
    "Estimar el error estandar de $ \\hat{\\beta _0}$\n",
    "<br>\n",
    "$$s\\sqrt{\\frac{1}{n} + \\frac{\\bar{x}}{S_{xx}}} $$"
   ]
  },
  {
   "cell_type": "code",
   "execution_count": 18,
   "id": "00668d78",
   "metadata": {},
   "outputs": [
    {
     "name": "stdout",
     "output_type": "stream",
     "text": [
      "27.786110935210388\n"
     ]
    }
   ],
   "source": [
    "s = np.sqrt(result_simple.mse_resid)\n",
    "xBarra = data[NombreColX].mean()\n",
    "n = len(data)\n",
    "Sxx = np.sum((data[NombreColX] - xBarra)**2)\n",
    "eB0 = s*np.sqrt((1/n) + (xBarra/Sxx))\n",
    "print(eB0)"
   ]
  },
  {
   "cell_type": "markdown",
   "id": "e79d519c",
   "metadata": {},
   "source": [
    "Calcular una estimacion puntual\n",
    "<br>\n",
    "$$\\hat y \\pm t_{a/2} * \\sigma^2  *\\sqrt{1+ \\frac{1}{n} + \\frac{x - \\bar x}{S_{xx}}}%%"
   ]
  },
  {
   "cell_type": "code",
   "execution_count": 19,
   "id": "78f6b351",
   "metadata": {},
   "outputs": [
    {
     "name": "stdout",
     "output_type": "stream",
     "text": [
      "688.8622192544178 , 1260.7913557707564\n"
     ]
    }
   ],
   "source": [
    "xPronostico = 13.6\n",
    "alpha = 0.05\n",
    "gradosLib = len(data) -2\n",
    "t1 = t(gradosLib)\n",
    "yGorro = result_simple.params[0] + result_simple.params[1]*xPronostico\n",
    "t_alpha = t1.ppf(1-(alpha/2))\n",
    "stdDiv = np.sqrt(result_simple.mse_resid)\n",
    "xBarra = data[NombreColX].mean()\n",
    "\n",
    "Sxx = np.sum((data[NombreColX] - xBarra)**2)\n",
    "\n",
    "print(yGorro - t_alpha*stdDiv*np.sqrt(1+ (1/len(data)) + ((xPronostico - xBarra)**2)/Sxx), ',',yGorro + t_alpha*stdDiv*np.sqrt(1+ (1/len(data)) + ((xPronostico - xBarra)**2)/Sxx))\n"
   ]
  },
  {
   "cell_type": "markdown",
   "id": "b6f8bfd8",
   "metadata": {},
   "source": [
    "Calcular una estimacion General\n",
    "<br>\n",
    "$$\\hat y \\pm t_{a/2} * \\hat \\sigma * \\sqrt{\\frac{1}{n} + \\frac{(\\hat x - \\bar x)^2}{S_{xx}}}$$"
   ]
  },
  {
   "cell_type": "code",
   "execution_count": 20,
   "id": "b6820307",
   "metadata": {},
   "outputs": [
    {
     "name": "stdout",
     "output_type": "stream",
     "text": [
      "668.1484477088615 , 1193.0537174472288\n"
     ]
    }
   ],
   "source": [
    "xPronostico = 9.5\n",
    "alpha = 0.05\n",
    "gradosLib = len(data) -2\n",
    "t1 = t(gradosLib)\n",
    "yGorro = result_simple.params[0] + result_simple.params[1]*xPronostico\n",
    "t_alpha = t1.ppf(1-(alpha/2))\n",
    "stdDiv = np.sqrt(result_simple.mse_resid)\n",
    "xBarra = data[NombreColX].mean()\n",
    "\n",
    "Sxx = np.sum((data[NombreColX] - xBarra)**2)\n",
    "\n",
    "print(yGorro - t_alpha*stdDiv*np.sqrt((1/len(data)) + ((xPronostico - xBarra)**2)/Sxx), ',',yGorro + t_alpha*stdDiv*np.sqrt((1/len(data)) + ((xPronostico - xBarra)**2)/Sxx))\n"
   ]
  },
  {
   "cell_type": "markdown",
   "id": "bf7e5fda",
   "metadata": {},
   "source": [
    "Validación del modelo \n",
    "\n",
    "Entre las hipótesis que hemos considerado para el modelo se encuentran \n",
    "\n",
    "- la relación entre $Y$ y $X$ es lineal \n",
    "- el error tiene media 0\n",
    "- el error tiene varianza constante\n",
    "- los errores no están correlacionados\n",
    "- los errores se distribuyen de forma normal.\n",
    "\n",
    "La útlima de estas hipótesis fue fundamental en las pruebas de hipótesis y construcción de los intervalos de confianza para los parámetros. "
   ]
  },
  {
   "cell_type": "code",
   "execution_count": 21,
   "id": "843f3cd3",
   "metadata": {},
   "outputs": [
    {
     "data": {
      "text/plain": [
       "0.8479500334101097"
      ]
     },
     "execution_count": 21,
     "metadata": {},
     "output_type": "execute_result"
    }
   ],
   "source": [
    "# Primer Criterio\n",
    "np.sqrt(result_simple.rsquared)\n",
    "# debe de mostrar una relacion fuerte de linealidad"
   ]
  },
  {
   "cell_type": "code",
   "execution_count": 22,
   "id": "26461f9c",
   "metadata": {},
   "outputs": [
    {
     "data": {
      "text/plain": [
       "0.0"
      ]
     },
     "execution_count": 22,
     "metadata": {},
     "output_type": "execute_result"
    }
   ],
   "source": [
    "# Segundo Criterio\n",
    "np.mean(result_simple.resid) # media 0"
   ]
  },
  {
   "cell_type": "code",
   "execution_count": 23,
   "id": "c7d65b47",
   "metadata": {},
   "outputs": [
    {
     "data": {
      "image/png": "[encoded data removed]",
      "text/plain": [
       "<Figure size 432x288 with 1 Axes>"
      ]
     },
     "metadata": {
      "needs_background": "light"
     },
     "output_type": "display_data"
    }
   ],
   "source": [
    "# Tercer Criterio\n",
    "sns.residplot(x= NombreColX, y= NombreColY, data=data,lowess=True)\n",
    "plt.xlabel(\"y estimado\")\n",
    "plt.ylabel(\"residuales \")\n",
    "plt.show()\n",
    "# tiene que ser parecido a una linea recta"
   ]
  },
  {
   "cell_type": "code",
   "execution_count": 24,
   "id": "6db655de",
   "metadata": {},
   "outputs": [
    {
     "name": "stdout",
     "output_type": "stream",
     "text": [
      "{'Test Statistic': 0.522145630576073, 'Test Statistic p-value': 0.770224833430039, 'F-Statistic': 0.19281892670897113, 'F-Test p-value': 0.8288674969755916}\n"
     ]
    }
   ],
   "source": [
    "# Tercer Criterio - Numerico\n",
    "from statsmodels.stats.diagnostic import het_white\n",
    "white_test = het_white(result_simple.resid,  result_simple.model.exog)\n",
    "labels = ['Test Statistic', 'Test Statistic p-value', 'F-Statistic', 'F-Test p-value']\n",
    "print(dict(zip(labels, white_test)))"
   ]
  },
  {
   "cell_type": "code",
   "execution_count": 25,
   "id": "f2843faa",
   "metadata": {},
   "outputs": [
    {
     "name": "stdout",
     "output_type": "stream",
     "text": [
      "1.597665748873168\n"
     ]
    }
   ],
   "source": [
    "# Cuarto Criterio - debe de dar entre (1.5, 2.5)\n",
    "import statsmodels.stats.stattools as sttools\n",
    "durbinwatson=sttools.durbin_watson(result_simple.resid)\n",
    "print(durbinwatson)"
   ]
  },
  {
   "cell_type": "code",
   "execution_count": 26,
   "id": "cf9f1bce",
   "metadata": {},
   "outputs": [
    {
     "name": "stderr",
     "output_type": "stream",
     "text": [
      "c:\\Users\\aleja\\AppData\\Local\\Programs\\Python\\Python310\\lib\\site-packages\\scipy\\stats\\_stats_py.py:1477: UserWarning: kurtosistest only valid for n>=20 ... continuing anyway, n=10\n",
      "  warnings.warn(\"kurtosistest only valid for n>=20 ... continuing \"\n"
     ]
    },
    {
     "data": {
      "text/html": [
       "<table class=\"simpletable\">\n",
       "<caption>OLS Regression Results</caption>\n",
       "<tr>\n",
       "  <th>Dep. Variable:</th>         <td>Ventas</td>      <th>  R-squared:         </th> <td>   0.719</td>\n",
       "</tr>\n",
       "<tr>\n",
       "  <th>Model:</th>                   <td>OLS</td>       <th>  Adj. R-squared:    </th> <td>   0.684</td>\n",
       "</tr>\n",
       "<tr>\n",
       "  <th>Method:</th>             <td>Least Squares</td>  <th>  F-statistic:       </th> <td>   20.47</td>\n",
       "</tr>\n",
       "<tr>\n",
       "  <th>Date:</th>             <td>Thu, 18 Aug 2022</td> <th>  Prob (F-statistic):</th>  <td>0.00194</td>\n",
       "</tr>\n",
       "<tr>\n",
       "  <th>Time:</th>                 <td>10:58:22</td>     <th>  Log-Likelihood:    </th> <td> -55.150</td>\n",
       "</tr>\n",
       "<tr>\n",
       "  <th>No. Observations:</th>      <td>    10</td>      <th>  AIC:               </th> <td>   114.3</td>\n",
       "</tr>\n",
       "<tr>\n",
       "  <th>Df Residuals:</th>          <td>     8</td>      <th>  BIC:               </th> <td>   114.9</td>\n",
       "</tr>\n",
       "<tr>\n",
       "  <th>Df Model:</th>              <td>     1</td>      <th>                     </th>     <td> </td>   \n",
       "</tr>\n",
       "<tr>\n",
       "  <th>Covariance Type:</th>      <td>nonrobust</td>    <th>                     </th>     <td> </td>   \n",
       "</tr>\n",
       "</table>\n",
       "<table class=\"simpletable\">\n",
       "<tr>\n",
       "    <td></td>       <th>coef</th>     <th>std err</th>      <th>t</th>      <th>P>|t|</th>  <th>[0.025</th>    <th>0.975]</th>  \n",
       "</tr>\n",
       "<tr>\n",
       "  <th>const</th> <td>  828.1269</td> <td>  136.129</td> <td>    6.083</td> <td> 0.000</td> <td>  514.214</td> <td> 1142.040</td>\n",
       "</tr>\n",
       "<tr>\n",
       "  <th>Gasto</th> <td>   10.7868</td> <td>    2.384</td> <td>    4.525</td> <td> 0.002</td> <td>    5.289</td> <td>   16.284</td>\n",
       "</tr>\n",
       "</table>\n",
       "<table class=\"simpletable\">\n",
       "<tr>\n",
       "  <th>Omnibus:</th>       <td> 0.124</td> <th>  Durbin-Watson:     </th> <td>   1.598</td>\n",
       "</tr>\n",
       "<tr>\n",
       "  <th>Prob(Omnibus):</th> <td> 0.940</td> <th>  Jarque-Bera (JB):  </th> <td>   0.336</td>\n",
       "</tr>\n",
       "<tr>\n",
       "  <th>Skew:</th>          <td>-0.012</td> <th>  Prob(JB):          </th> <td>   0.845</td>\n",
       "</tr>\n",
       "<tr>\n",
       "  <th>Kurtosis:</th>      <td> 2.102</td> <th>  Cond. No.          </th> <td>    366.</td>\n",
       "</tr>\n",
       "</table><br/><br/>Notes:<br/>[1] Standard Errors assume that the covariance matrix of the errors is correctly specified."
      ],
      "text/plain": [
       "<class 'statsmodels.iolib.summary.Summary'>\n",
       "\"\"\"\n",
       "                            OLS Regression Results                            \n",
       "==============================================================================\n",
       "Dep. Variable:                 Ventas   R-squared:                       0.719\n",
       "Model:                            OLS   Adj. R-squared:                  0.684\n",
       "Method:                 Least Squares   F-statistic:                     20.47\n",
       "Date:                Thu, 18 Aug 2022   Prob (F-statistic):            0.00194\n",
       "Time:                        10:58:22   Log-Likelihood:                -55.150\n",
       "No. Observations:                  10   AIC:                             114.3\n",
       "Df Residuals:                       8   BIC:                             114.9\n",
       "Df Model:                           1                                         \n",
       "Covariance Type:            nonrobust                                         \n",
       "==============================================================================\n",
       "                 coef    std err          t      P>|t|      [0.025      0.975]\n",
       "------------------------------------------------------------------------------\n",
       "const        828.1269    136.129      6.083      0.000     514.214    1142.040\n",
       "Gasto         10.7868      2.384      4.525      0.002       5.289      16.284\n",
       "==============================================================================\n",
       "Omnibus:                        0.124   Durbin-Watson:                   1.598\n",
       "Prob(Omnibus):                  0.940   Jarque-Bera (JB):                0.336\n",
       "Skew:                          -0.012   Prob(JB):                        0.845\n",
       "Kurtosis:                       2.102   Cond. No.                         366.\n",
       "==============================================================================\n",
       "\n",
       "Notes:\n",
       "[1] Standard Errors assume that the covariance matrix of the errors is correctly specified.\n",
       "\"\"\""
      ]
     },
     "execution_count": 26,
     "metadata": {},
     "output_type": "execute_result"
    }
   ],
   "source": [
    "# Quinto Criterio - Distribucion Normal de errores\n",
    "result_simple.summary()\n",
    "# Ver Valor P Jarque Bera\n",
    "# Prob(JB)"
   ]
  }
 ],
 "metadata": {
  "kernelspec": {
   "display_name": "Python 3.10.5 64-bit",
   "language": "python",
   "name": "python3"
  },
  "language_info": {
   "codemirror_mode": {
    "name": "ipython",
    "version": 3
   },
   "file_extension": ".py",
   "mimetype": "text/x-python",
   "name": "python",
   "nbconvert_exporter": "python",
   "pygments_lexer": "ipython3",
   "version": "3.10.5"
  },
  "vscode": {
   "interpreter": {
    "hash": "d4a79ae9cfdb2ed5f26f551a0c28945c2180245b057d0bc799e41e8dc3a4f6ed"
   }
  }
 },
 "nbformat": 4,
 "nbformat_minor": 5
}
